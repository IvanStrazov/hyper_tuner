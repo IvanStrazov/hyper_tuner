{
 "cells": [
  {
   "cell_type": "markdown",
   "id": "b921a64c-4447-4fd8-995c-d39073c1cf0e",
   "metadata": {},
   "source": [
    "# __Regression task__"
   ]
  },
  {
   "cell_type": "markdown",
   "id": "b762282d-59d6-40ba-840a-efd9a08346dc",
   "metadata": {},
   "source": [
    "#### Libraries and session's settings"
   ]
  },
  {
   "cell_type": "code",
   "execution_count": 1,
   "id": "629086a8-183e-419b-bfaa-a3d3cc6016da",
   "metadata": {},
   "outputs": [],
   "source": [
    "import pandas as pd\n",
    "from sklearn.datasets import make_regression\n",
    "from sklearn.model_selection import train_test_split, KFold\n",
    "from lightgbm import LGBMRegressor\n",
    "\n",
    "from hyper_tuner.core import make_hyperopt\n",
    "from hyper_tuner.metrics import MAPE\n",
    "\n",
    "import config"
   ]
  },
  {
   "cell_type": "code",
   "execution_count": 2,
   "id": "f03658dc-5b78-43ff-ac8a-791259f21a06",
   "metadata": {},
   "outputs": [],
   "source": [
    "N_SAMPLES = 100000\n",
    "N_FEATURES = 20\n",
    "N_INFORMATIVE = 10"
   ]
  },
  {
   "cell_type": "markdown",
   "id": "32cccbd0-05e9-4755-abdc-5537c6dfd678",
   "metadata": {},
   "source": [
    "#### Generate dataset"
   ]
  },
  {
   "cell_type": "code",
   "execution_count": 3,
   "id": "73e5c05b-5a80-492d-821b-306afdac42fb",
   "metadata": {},
   "outputs": [],
   "source": [
    "X, y = make_regression(n_samples=N_SAMPLES,\n",
    "                       n_features=N_FEATURES,\n",
    "                       n_informative=N_INFORMATIVE,\n",
    "                       random_state=42)\n",
    "X = pd.DataFrame(X, columns=[f\"x{i}\" for i in range(1,N_FEATURES+1)])\n",
    "y = pd.Series(y)\n",
    "\n",
    "X_train, X_test, y_train, y_test = train_test_split(X, y, test_size=0.2, shuffle=True, random_state=42)"
   ]
  },
  {
   "cell_type": "markdown",
   "id": "da042b51-80f0-421a-923f-aad210169a0d",
   "metadata": {},
   "source": [
    "#### Simple Model"
   ]
  },
  {
   "cell_type": "code",
   "execution_count": 4,
   "id": "f17501b6-2469-4941-9078-79592b01fe66",
   "metadata": {},
   "outputs": [
    {
     "name": "stdout",
     "output_type": "stream",
     "text": [
      "MAPE: 61.6%\n"
     ]
    }
   ],
   "source": [
    "model = LGBMRegressor().fit(X_train, y_train)\n",
    "y_pred = model.predict(X_test)\n",
    "\n",
    "print(f\"MAPE: {100*MAPE(y_test, y_pred):.1f}%\")"
   ]
  },
  {
   "cell_type": "markdown",
   "id": "2aecc7c4-d2a2-4efd-ae88-3ca97a82fbe3",
   "metadata": {},
   "source": [
    "#### Make hyper tuning"
   ]
  },
  {
   "cell_type": "code",
   "execution_count": 5,
   "id": "c40b345c-4296-48c0-9dde-9e79fb313be6",
   "metadata": {},
   "outputs": [
    {
     "name": "stdout",
     "output_type": "stream",
     "text": [
      "100%|██████████████████████████████████████████████████| 2/2 [00:06<00:00,  3.25s/trial, best loss: 14.657120473611053]\n"
     ]
    }
   ],
   "source": [
    "tuner_pipe = make_hyperopt(estimator=config.ESTIMATOR,\n",
    "                           X=X, y=y,\n",
    "                           cv=config.CV,\n",
    "                           space=config.SPACE, common_params=config.COMMON_PARAMS,\n",
    "                           fit_params=config.FIT_PARAMS, predict_params=config.PREDICT_PARAMS,\n",
    "                           cat_params=[], int_params=config.INT_PARAMS,\n",
    "                           max_evals=2)"
   ]
  },
  {
   "cell_type": "code",
   "execution_count": null,
   "id": "9e2e9ff6-cdbc-46e2-9aef-a1387188532f",
   "metadata": {},
   "outputs": [],
   "source": [
    "model = LGBMRegressor(**tuner_pipe.best_parameters).fit(X_train, y_train)\n",
    "y_pred = model.predict(X_test)\n",
    "\n",
    "print(f\"MAPE: {100*MAPE(y_test, y_pred):.1f}%\")"
   ]
  }
 ],
 "metadata": {
  "kernelspec": {
   "display_name": "Python 3",
   "language": "python",
   "name": "python3"
  },
  "language_info": {
   "codemirror_mode": {
    "name": "ipython",
    "version": 3
   },
   "file_extension": ".py",
   "mimetype": "text/x-python",
   "name": "python",
   "nbconvert_exporter": "python",
   "pygments_lexer": "ipython3",
   "version": "3.9.4"
  }
 },
 "nbformat": 4,
 "nbformat_minor": 5
}
